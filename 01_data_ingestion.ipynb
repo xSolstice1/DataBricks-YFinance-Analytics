{
 "cells": [
  {
   "cell_type": "code",
   "execution_count": 0,
   "metadata": {
    "application/vnd.databricks.v1+cell": {
     "cellMetadata": {
      "byteLimit": 2048000,
      "rowLimit": 10000
     },
     "inputWidgets": {},
     "nuid": "90eb0528-c725-4b72-8925-43281148b468",
     "showTitle": false,
     "tableResultSettingsMap": {},
     "title": ""
    }
   },
   "outputs": [],
   "source": [
    "#01_data_ingestion\n",
    "#ingests data from yfinance and store it inside \n",
    "\n",
    "#dependencies installation\n",
    "%pip install yfinance\n",
    "\n",
    "#imports\n",
    "import yfinance as yf\n",
    "import pandas as pd\n",
    "from pyspark.sql import SparkSession\n",
    "from pyspark.sql.functions import current_timestamp, date_format, from_utc_timestamp\n",
    "import datetime\n",
    "\n"
   ]
  },
  {
   "cell_type": "code",
   "execution_count": 0,
   "metadata": {
    "application/vnd.databricks.v1+cell": {
     "cellMetadata": {
      "byteLimit": 2048000,
      "rowLimit": 10000
     },
     "inputWidgets": {},
     "nuid": "6f12a0d7-3bc5-42a4-bf70-cfea34ad5c70",
     "showTitle": false,
     "tableResultSettingsMap": {},
     "title": ""
    }
   },
   "outputs": [],
   "source": [
    "#Widgets\n",
    "\n",
    "#Tickers\n",
    "dbutils.widgets.text(\"tickers\", \"AAPL,MSFT,TSLA\", \"Enter Tickers (comma-separated)\")\n",
    "\n",
    "#Start/End Dates\n",
    "dbutils.widgets.text(\"start_date\", \"2025-01-01\", \"Enter Start Date (YYYY-MM-DD)\")\n",
    "dbutils.widgets.text(\"end_date\", \"2025-09-20\", \"Enter End Date (YYYY-MM-DD)\")\n",
    "\n",
    "#Intervals\n",
    "valid_intervals = [\"1m\", \"5m\", \"15m\", \"30m\", \"1h\", \"1d\", \"1wk\", \"1mo\"]\n",
    "dbutils.widgets.dropdown(\"interval\", \"1d\", valid_intervals, \"Select Interval\")"
   ]
  },
  {
   "cell_type": "code",
   "execution_count": 0,
   "metadata": {
    "application/vnd.databricks.v1+cell": {
     "cellMetadata": {
      "byteLimit": 2048000,
      "rowLimit": 10000
     },
     "inputWidgets": {},
     "nuid": "cd86f2ef-017a-4f58-9ee8-d9a1a153c0af",
     "showTitle": false,
     "tableResultSettingsMap": {},
     "title": ""
    }
   },
   "outputs": [],
   "source": [
    "spark = SparkSession.builder.getOrCreate()\n",
    "path = \"/Volumes/workspace/default/yfinance-stock-data\"\n",
    "\n",
    "#Widget Data\n",
    "#Tickers\n",
    "tickers = dbutils.widgets.get(\"tickers\").split(\",\")\n",
    "\n",
    "#Start/End Date\n",
    "start_date = dbutils.widgets.get(\"start_date\")\n",
    "end_date = dbutils.widgets.get(\"end_date\")\n",
    "\n",
    "#Validate Date Inputs\n",
    "for d in [start_date, end_date]:\n",
    "    try:\n",
    "        datetime.datetime.strptime(d, \"%Y-%m-%d\")\n",
    "    except ValueError:\n",
    "        raise ValueError(f\"Invalid date format: {d}. Use YYYY-MM-DD\")\n",
    "\n",
    "#Interval\n",
    "interval = dbutils.widgets.get(\"interval\")\n",
    "\n",
    "all_data = []\n",
    "\n",
    "for t in tickers:\n",
    "    ticker = t.strip()\n",
    "\n",
    "    #Pass in parameters to download\n",
    "    df = yf.download(\n",
    "        ticker,\n",
    "        start=start_date,\n",
    "        end=end_date,\n",
    "        interval=interval,\n",
    "        auto_adjust=True\n",
    "    )\n",
    "    \n",
    "    df.reset_index(inplace=True)\n",
    "\n",
    "    if isinstance(df.columns, pd.MultiIndex):\n",
    "        df.columns = [\"_\".join([str(i) for i in col if i]) for col in df.columns.values]\n",
    "    \n",
    "    rename_map = {}\n",
    "    for c in df.columns:\n",
    "        lower = c.lower()\n",
    "        if \"open\" in lower:\n",
    "            rename_map[c] = \"Open\"\n",
    "        elif \"high\" in lower:\n",
    "            rename_map[c] = \"High\"\n",
    "        elif \"low\" in lower:\n",
    "            rename_map[c] = \"Low\"\n",
    "        elif \"close\" in lower:\n",
    "            rename_map[c] = \"Close\"\n",
    "        elif \"volume\" in lower:\n",
    "            rename_map[c] = \"Volume\"\n",
    "        elif \"date\" in lower or \"datetime\" in lower:\n",
    "            rename_map[c] = \"Datetime\"\n",
    "    df.rename(columns=rename_map, inplace=True)\n",
    "    df[\"ticker\"] = ticker\n",
    "    df = df[[\"ticker\", \"Datetime\", \"Open\", \"High\", \"Low\", \"Close\", \"Volume\"]]\n",
    "    \n",
    "    all_data.append(df)\n",
    "\n",
    "long_pdf = pd.concat(all_data, ignore_index=True)\n",
    "sdf = spark.createDataFrame(long_pdf) \\\n",
    "    .withColumn(\"Updated_On\", date_format(from_utc_timestamp(current_timestamp(), \"Asia/Singapore\"), \"yyyy-MM-dd HH:mm:ss\"))\n",
    "\n",
    "#drop delta, for testing\n",
    "# dbutils.fs.rm(path, True) \n",
    "\n",
    "#save as delta\n",
    "sdf.write.format(\"delta\") \\\n",
    "    .mode(\"append\") \\\n",
    "    .save(path)\n"
   ]
  },
  {
   "cell_type": "code",
   "execution_count": 0,
   "metadata": {
    "application/vnd.databricks.v1+cell": {
     "cellMetadata": {
      "byteLimit": 2048000,
      "implicitDf": true,
      "rowLimit": 10000
     },
     "inputWidgets": {},
     "nuid": "62d1c06e-53b2-4637-bc7c-3a21ba8ffa6a",
     "showTitle": false,
     "tableResultSettingsMap": {},
     "title": ""
    }
   },
   "outputs": [],
   "source": [
    "#Create view to verify data ingestion\n",
    "# sdf.createOrReplaceTempView(\"stock_data\")\n",
    "\n",
    "# spark.sql(\"\"\"\n",
    "#     SELECT \n",
    "#         -- ticker, \n",
    "#         -- Datetime, \n",
    "#         -- Close\n",
    "#         -- MAX(Datetime)\n",
    "#         *\n",
    "#     FROM \n",
    "#         stock_data\n",
    "#     WHERE TRUE \n",
    "#         AND ticker IN ('MSFT','AAPL')\n",
    "#         AND Datetime >= '2025-09-10'\n",
    "#         -- AND ticker LIKE '%AAPL%'\n",
    "#     ORDER BY \n",
    "#         Datetime DESC\n",
    "# \"\"\").show(20)\n",
    "\n",
    "#Select from Delta\n",
    "spark.sql(\"\"\"\n",
    "            SELECT \n",
    "                * \n",
    "            FROM \n",
    "                delta.`/Volumes/workspace/default/yfinance-stock-data`\n",
    "            WHERE TRUE\n",
    "                AND Close IS NOT NULL\n",
    "          \"\"\").show(100)"
   ]
  },
  {
   "cell_type": "code",
   "execution_count": 0,
   "metadata": {
    "application/vnd.databricks.v1+cell": {
     "cellMetadata": {
      "byteLimit": 2048000,
      "implicitDf": true,
      "rowLimit": 10000
     },
     "inputWidgets": {},
     "nuid": "aa636b2b-0fb4-4861-921b-6d513597a914",
     "showTitle": false,
     "tableResultSettingsMap": {
      "0": {
       "dataGridStateBlob": "{\"version\":1,\"tableState\":{\"columnPinning\":{\"left\":[\"#row_number#\"],\"right\":[]},\"columnSizing\":{},\"columnVisibility\":{}},\"settings\":{\"columns\":{}},\"syncTimestamp\":1758369633871}",
       "filterBlob": null,
       "queryPlanFiltersBlob": null,
       "tableResultIndex": 0
      }
     },
     "title": ""
    }
   },
   "outputs": [],
   "source": [
    "%sql\n",
    "SELECT DISTINCT\n",
    "  *\n",
    "FROM \n",
    "  delta.`/Volumes/workspace/default/yfinance-stock-data`\n",
    "WHERE TRUE\n",
    "  AND Close IS NOT NULL\n",
    "QUALIFY\n",
    "  ROW_NUMBER() OVER (PARTITION BY TICKER, DATETIME ORDER BY UPDATED_ON) = 1"
   ]
  }
 ],
 "metadata": {
  "application/vnd.databricks.v1+notebook": {
   "computePreferences": null,
   "dashboards": [],
   "environmentMetadata": {
    "base_environment": "",
    "environment_version": "3"
   },
   "inputWidgetPreferences": null,
   "language": "python",
   "notebookMetadata": {
    "mostRecentlyExecutedCommandWithImplicitDF": {
     "commandId": 8776238587343429,
     "dataframes": [
      "_sqldf"
     ]
    },
    "pythonIndentUnit": 4
   },
   "notebookName": "01_data_ingestion",
   "widgets": {
    "end_date": {
     "currentValue": "2025-09-20",
     "nuid": "ed797962-9468-43e9-9778-dee6d0d131ae",
     "typedWidgetInfo": {
      "autoCreated": false,
      "defaultValue": "2025-09-20",
      "label": "Enter End Date (YYYY-MM-DD)",
      "name": "end_date",
      "options": {
       "widgetDisplayType": "Text",
       "validationRegex": null
      },
      "parameterDataType": "String"
     },
     "widgetInfo": {
      "widgetType": "text",
      "defaultValue": "2025-09-20",
      "label": "Enter End Date (YYYY-MM-DD)",
      "name": "end_date",
      "options": {
       "widgetType": "text",
       "autoCreated": null,
       "validationRegex": null
      }
     }
    },
    "interval": {
     "currentValue": "1d",
     "nuid": "27e5a393-1775-4b04-9ee0-d88743e116b8",
     "typedWidgetInfo": {
      "autoCreated": false,
      "defaultValue": "1d",
      "label": "Select Interval",
      "name": "interval",
      "options": {
       "widgetDisplayType": "Dropdown",
       "choices": [
        "1m",
        "5m",
        "15m",
        "30m",
        "1h",
        "1d",
        "1wk",
        "1mo"
       ],
       "fixedDomain": true,
       "multiselect": false
      },
      "parameterDataType": "String"
     },
     "widgetInfo": {
      "widgetType": "dropdown",
      "defaultValue": "1d",
      "label": "Select Interval",
      "name": "interval",
      "options": {
       "widgetType": "dropdown",
       "autoCreated": null,
       "choices": [
        "1m",
        "5m",
        "15m",
        "30m",
        "1h",
        "1d",
        "1wk",
        "1mo"
       ]
      }
     }
    },
    "start_date": {
     "currentValue": "2025-01-01",
     "nuid": "1a9e3242-4d3e-4b2c-b12d-54d99b507fac",
     "typedWidgetInfo": {
      "autoCreated": false,
      "defaultValue": "2025-01-01",
      "label": "Enter Start Date (YYYY-MM-DD)",
      "name": "start_date",
      "options": {
       "widgetDisplayType": "Text",
       "validationRegex": null
      },
      "parameterDataType": "String"
     },
     "widgetInfo": {
      "widgetType": "text",
      "defaultValue": "2025-01-01",
      "label": "Enter Start Date (YYYY-MM-DD)",
      "name": "start_date",
      "options": {
       "widgetType": "text",
       "autoCreated": null,
       "validationRegex": null
      }
     }
    },
    "tickers": {
     "currentValue": "AAPL,MSFT,TSLA",
     "nuid": "4758679e-df7d-48e0-bae4-197800106a46",
     "typedWidgetInfo": {
      "autoCreated": false,
      "defaultValue": "AAPL,MSFT,TSLA",
      "label": "Enter Tickers (comma-separated)",
      "name": "tickers",
      "options": {
       "widgetDisplayType": "Text",
       "validationRegex": null
      },
      "parameterDataType": "String"
     },
     "widgetInfo": {
      "widgetType": "text",
      "defaultValue": "AAPL,MSFT,TSLA",
      "label": "Enter Tickers (comma-separated)",
      "name": "tickers",
      "options": {
       "widgetType": "text",
       "autoCreated": null,
       "validationRegex": null
      }
     }
    }
   }
  },
  "language_info": {
   "name": "python"
  }
 },
 "nbformat": 4,
 "nbformat_minor": 0
}
