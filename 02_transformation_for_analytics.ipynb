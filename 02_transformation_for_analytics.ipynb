{
 "cells": [
  {
   "cell_type": "code",
   "execution_count": 0,
   "metadata": {
    "application/vnd.databricks.v1+cell": {
     "cellMetadata": {
      "byteLimit": 2048000,
      "implicitDf": true,
      "rowLimit": 10000
     },
     "inputWidgets": {},
     "nuid": "3329923f-9acf-451c-9d48-05a9c696e1fa",
     "showTitle": false,
     "tableResultSettingsMap": {
      "0": {
       "dataGridStateBlob": "{\"version\":1,\"tableState\":{\"columnPinning\":{\"left\":[\"#row_number#\"],\"right\":[]},\"columnSizing\":{},\"columnVisibility\":{}},\"settings\":{\"columns\":{}},\"syncTimestamp\":1758371363040}",
       "filterBlob": null,
       "queryPlanFiltersBlob": null,
       "tableResultIndex": 0
      }
     },
     "title": ""
    }
   },
   "outputs": [],
   "source": [
    "%sql\n",
    "-- 02_transformation_for_analytics\n",
    "-- transform data ingested for analytical purposes\n",
    "\n",
    "-- SELECT\n",
    "--     *\n",
    "-- FROM\n",
    "--     workspace.default.stock_data;\n",
    "\n",
    "CREATE OR REPLACE VIEW workspace.default.stock_metrics AS\n",
    "WITH BASE_DATA AS (\n",
    "SELECT\n",
    "    TICKER,\n",
    "    DATETIME,\n",
    "    CLOSE,\n",
    "    IFNULL(LAG(CLOSE) OVER (PARTITION BY TICKER ORDER BY DATETIME),CLOSE) AS PREV_CLOSE,\n",
    "    (CLOSE-PREV_CLOSE)/PREV_CLOSE AS DAILY_RETURN,\n",
    "    (CLOSE - FIRST_VALUE(CLOSE) OVER (PARTITION BY TICKER ORDER BY DATETIME)) / FIRST_VALUE(CLOSE) OVER (PARTITION BY TICKER ORDER BY DATETIME) AS CUM_RETURN,\n",
    "    HIGH - LOW AS DAILY_RANGE,\n",
    "    (HIGH - LOW) / OPEN AS DAILY_VOLATILITY,\n",
    "    VOLUME / AVG(VOLUME) OVER (PARTITION BY TICKER ORDER BY DATETIME ROWS BETWEEN 30 PRECEDING AND CURRENT ROW) AS VOLUME_SPIKE,\n",
    "    AVG(CLOSE) OVER (PARTITION BY TICKER ORDER BY DATETIME ROWS BETWEEN 15 PRECEDING AND CURRENT ROW) AS MA_15,\n",
    "    AVG(CLOSE) OVER (PARTITION BY TICKER ORDER BY DATETIME ROWS BETWEEN 30 PRECEDING AND CURRENT ROW) AS MA_30,\n",
    "    AVG(CLOSE) OVER (PARTITION BY TICKER ORDER BY DATETIME ROWS BETWEEN 60 PRECEDING AND CURRENT ROW) AS MA_60\n",
    "FROM\n",
    "    (SELECT\n",
    "        TICKER,\n",
    "        DATETIME::DATE,\n",
    "        OPEN,\n",
    "        HIGH,\n",
    "        LOW,\n",
    "        CLOSE,\n",
    "        VOLUME\n",
    "    FROM\n",
    "        workspace.default.stock_data\n",
    "    QUALIFY ROW_NUMBER() OVER (PARTITION BY TICKER, DATETIME ORDER BY UPDATED_ON)=1)\n",
    "ORDER BY\n",
    "    DATETIME ASC,\n",
    "    TICKER\n",
    ")\n",
    "SELECT\n",
    "    *,\n",
    "    MA_15 - 2*STDDEV(CLOSE) OVER (PARTITION BY TICKER ORDER BY DATETIME ROWS BETWEEN 15 PRECEDING AND CURRENT ROW) AS MA_15_LOWER_BB,\n",
    "    MA_30 - 2*STDDEV(CLOSE) OVER (PARTITION BY TICKER ORDER BY DATETIME ROWS BETWEEN 30 PRECEDING AND CURRENT ROW) AS MA_30_LOWER_BB,\n",
    "    MA_60 - 2*STDDEV(CLOSE) OVER (PARTITION BY TICKER ORDER BY DATETIME ROWS BETWEEN 60 PRECEDING AND CURRENT ROW) AS MA_60_LOWER_BB,\n",
    "    MA_15 + 2*STDDEV(CLOSE) OVER (PARTITION BY TICKER ORDER BY DATETIME ROWS BETWEEN 15 PRECEDING AND CURRENT ROW) AS MA_15_UPPER_BB,\n",
    "    MA_30 + 2*STDDEV(CLOSE) OVER (PARTITION BY TICKER ORDER BY DATETIME ROWS BETWEEN 30 PRECEDING AND CURRENT ROW) AS MA_30_UPPER_BB,\n",
    "    MA_60 + 2*STDDEV(CLOSE) OVER (PARTITION BY TICKER ORDER BY DATETIME ROWS BETWEEN 60 PRECEDING AND CURRENT ROW) AS MA_60_UPPER_BB\n",
    "FROM\n",
    "    BASE_DATA;\n",
    "\n"
   ]
  },
  {
   "cell_type": "code",
   "execution_count": 0,
   "metadata": {
    "application/vnd.databricks.v1+cell": {
     "cellMetadata": {
      "byteLimit": 2048000,
      "implicitDf": true,
      "rowLimit": 10000
     },
     "inputWidgets": {},
     "nuid": "4d15d61d-98f8-4a07-9b85-c48dd12ccfba",
     "showTitle": false,
     "tableResultSettingsMap": {},
     "title": ""
    }
   },
   "outputs": [],
   "source": [
    "%sql\n",
    "SELECT\n",
    "    *\n",
    "FROM\n",
    "    workspace.default.stock_metrics;"
   ]
  }
 ],
 "metadata": {
  "application/vnd.databricks.v1+notebook": {
   "computePreferences": null,
   "dashboards": [],
   "environmentMetadata": {
    "base_environment": "",
    "environment_version": "3"
   },
   "inputWidgetPreferences": null,
   "language": "python",
   "notebookMetadata": {
    "mostRecentlyExecutedCommandWithImplicitDF": {
     "commandId": 8776238587343443,
     "dataframes": [
      "_sqldf"
     ]
    },
    "pythonIndentUnit": 4
   },
   "notebookName": "02_transformation_for_analytics",
   "widgets": {}
  },
  "language_info": {
   "name": "python"
  }
 },
 "nbformat": 4,
 "nbformat_minor": 0
}
