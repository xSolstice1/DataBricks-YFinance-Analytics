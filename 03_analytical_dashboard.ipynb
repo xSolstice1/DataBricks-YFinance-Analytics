{
 "cells": [
  {
   "cell_type": "code",
   "execution_count": 0,
   "metadata": {
    "application/vnd.databricks.v1+cell": {
     "cellMetadata": {
      "byteLimit": 2048000,
      "rowLimit": 10000
     },
     "inputWidgets": {},
     "nuid": "61c07510-1b03-42f8-8b6e-23308aa63ea8",
     "showTitle": false,
     "tableResultSettingsMap": {},
     "title": ""
    }
   },
   "outputs": [],
   "source": [
    "#install dependencies\n",
    "%pip install ipywidgets\n",
    "%pip install nbformat>=4.2.0"
   ]
  },
  {
   "cell_type": "code",
   "execution_count": 0,
   "metadata": {
    "application/vnd.databricks.v1+cell": {
     "cellMetadata": {
      "byteLimit": 2048000,
      "rowLimit": 10000
     },
     "inputWidgets": {},
     "nuid": "27ea2459-dd50-403e-837a-680a4c163898",
     "showTitle": false,
     "tableResultSettingsMap": {},
     "title": ""
    }
   },
   "outputs": [],
   "source": [
    "dbutils.library.restartPython()"
   ]
  },
  {
   "cell_type": "code",
   "execution_count": 0,
   "metadata": {
    "application/vnd.databricks.v1+cell": {
     "cellMetadata": {
      "byteLimit": 2048000,
      "rowLimit": 10000
     },
     "inputWidgets": {},
     "nuid": "ad6e4846-a390-4840-a97d-6f450ffa4529",
     "showTitle": false,
     "tableResultSettingsMap": {},
     "title": ""
    }
   },
   "outputs": [],
   "source": [
    "import pandas as pd\n",
    "import matplotlib.pyplot as plt\n",
    "import ipywidgets as widgets\n",
    "from IPython.display import display\n",
    "from pyspark.sql import SparkSession\n",
    "\n",
    "#Start Spark Session\n",
    "spark = SparkSession.builder.getOrCreate()\n",
    "df_spark = spark.table(\"workspace.default.stock_metrics\")\n",
    "df = df_spark.toPandas()\n",
    "df['DATETIME'] = pd.to_datetime(df['DATETIME'])\n",
    "\n",
    "#Widgets Selectors\n",
    "available_tickers = df['TICKER'].unique().tolist()\n",
    "ticker_select = widgets.SelectMultiple(\n",
    "    options=available_tickers,\n",
    "    value=[available_tickers[0]],\n",
    "    description='Tickers'\n",
    ")\n",
    "\n",
    "date_range = widgets.SelectionRangeSlider(\n",
    "    options=[(d.strftime(\"%Y-%m-%d\"), d) for d in pd.date_range(df['DATETIME'].min(), df['DATETIME'].max())],\n",
    "    index=(0, len(pd.date_range(df['DATETIME'].min(), df['DATETIME'].max()))-1),\n",
    "    description='Date Range',\n",
    "    orientation='horizontal',\n",
    "    layout={'width': '800px'},\n",
    "    readout=True\n",
    ")\n",
    "\n",
    "ma_15_chk = widgets.Checkbox(value=True, description='MA15')\n",
    "ma_30_chk = widgets.Checkbox(value=False, description='MA30')\n",
    "ma_60_chk = widgets.Checkbox(value=False, description='MA60')\n",
    "bb_chk = widgets.Checkbox(value=True, description='Bollinger Bands')\n",
    "\n",
    "ma_box = widgets.HBox([ma_15_chk, ma_30_chk, ma_60_chk, bb_chk])\n",
    "controls = widgets.VBox([ticker_select, date_range, ma_box])\n",
    "display(controls)\n",
    "\n",
    "plot_out = widgets.Output()\n",
    "display(plot_out)\n",
    "\n",
    "#Colours\n",
    "line_colors = {\n",
    "    'Close': 'black',\n",
    "    'MA15': 'orange',\n",
    "    'MA30': 'green',\n",
    "    'MA60': 'purple',\n",
    "    'BB15': 'black',\n",
    "    'BB30': 'lightgreen',\n",
    "    'BB60': 'violet'\n",
    "}\n",
    "\n",
    "def update_charts(change=None):\n",
    "    start_date, end_date = date_range.value\n",
    "    selected_tickers = ticker_select.value\n",
    "    MA15, MA30, MA60, BB = ma_15_chk.value, ma_30_chk.value, ma_60_chk.value, bb_chk.value\n",
    "\n",
    "    df_filtered = df[(df['DATETIME'] >= start_date) & (df['DATETIME'] <= end_date)]\n",
    "\n",
    "    with plot_out:\n",
    "        plot_out.clear_output(wait=True)\n",
    "        fig, ax = plt.subplots(figsize=(10,6))\n",
    "\n",
    "        for ticker in selected_tickers:\n",
    "            df_t = df_filtered[df_filtered['TICKER'] == ticker]\n",
    "            ax.plot(df_t['DATETIME'], df_t['CLOSE'], label=f\"{ticker} Close\", color=line_colors['Close'])\n",
    "            \n",
    "            if MA15:\n",
    "                ax.plot(df_t['DATETIME'], df_t['MA_15'], label=f\"{ticker} MA15\", color=line_colors['MA15'])\n",
    "                if BB:\n",
    "                    label = \"BB15\" if 'BB15' not in ax.get_legend_handles_labels()[1] else None\n",
    "                    ax.fill_between(df_t['DATETIME'], df_t['MA_15_LOWER_BB'], df_t['MA_15_UPPER_BB'],\n",
    "                                    alpha=0.2, facecolor=line_colors['BB15'], edgecolor=line_colors['BB15'],\n",
    "                                    label=label)\n",
    "            if MA30:\n",
    "                ax.plot(df_t['DATETIME'], df_t['MA_30'], label=f\"{ticker} MA30\", color=line_colors['MA30'])\n",
    "                if BB:\n",
    "                    label = \"BB30\" if 'BB30' not in ax.get_legend_handles_labels()[1] else None\n",
    "                    ax.fill_between(df_t['DATETIME'], df_t['MA_30_LOWER_BB'], df_t['MA_30_UPPER_BB'],\n",
    "                                    alpha=0.2, facecolor=line_colors['BB30'], edgecolor=line_colors['BB30'],\n",
    "                                    label=label)\n",
    "            if MA60:\n",
    "                ax.plot(df_t['DATETIME'], df_t['MA_60'], label=f\"{ticker} MA60\", color=line_colors['MA60'])\n",
    "                if BB:\n",
    "                    label = \"BB60\" if 'BB60' not in ax.get_legend_handles_labels()[1] else None\n",
    "                    ax.fill_between(df_t['DATETIME'], df_t['MA_60_LOWER_BB'], df_t['MA_60_UPPER_BB'],\n",
    "                                    alpha=0.2, facecolor=line_colors['BB60'], edgecolor=line_colors['BB60'],\n",
    "                                    label=label)\n",
    "        \n",
    "        ax.set_title(\"Price, Moving Averages & Bollinger Bands\")\n",
    "        ax.set_xlabel(\"Date\")\n",
    "        ax.set_ylabel(\"Price\")\n",
    "        ax.legend(loc='upper left', bbox_to_anchor=(1.0, 1.0))\n",
    "        plt.show()\n",
    "\n",
    "#Observer changes to ticker\n",
    "ticker_select.observe(update_charts, names='value')\n",
    "date_range.observe(update_charts, names='value')\n",
    "ma_15_chk.observe(update_charts, names='value')\n",
    "ma_30_chk.observe(update_charts, names='value')\n",
    "ma_60_chk.observe(update_charts, names='value')\n",
    "bb_chk.observe(update_charts, names='value')\n",
    "\n",
    "#Initialize Plot\n",
    "update_charts()\n"
   ]
  }
 ],
 "metadata": {
  "application/vnd.databricks.v1+notebook": {
   "computePreferences": null,
   "dashboards": [],
   "environmentMetadata": {
    "base_environment": "",
    "environment_version": "3"
   },
   "inputWidgetPreferences": null,
   "language": "python",
   "notebookMetadata": {
    "pythonIndentUnit": 4
   },
   "notebookName": "03_analytical_dashboard",
   "widgets": {}
  },
  "language_info": {
   "name": "python"
  }
 },
 "nbformat": 4,
 "nbformat_minor": 0
}
